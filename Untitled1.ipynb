{
 "cells": [
  {
   "cell_type": "code",
   "execution_count": 1,
   "id": "b8d32e43",
   "metadata": {
    "scrolled": true
   },
   "outputs": [
    {
     "ename": "FileNotFoundError",
     "evalue": "[Errno 2] No such file or directory: '/Users/kartiksolanki/Documents/eye_cataract/dataset/train/normal'",
     "output_type": "error",
     "traceback": [
      "\u001b[0;31m---------------------------------------------------------------------------\u001b[0m",
      "\u001b[0;31mFileNotFoundError\u001b[0m                         Traceback (most recent call last)",
      "Cell \u001b[0;32mIn[1], line 15\u001b[0m\n\u001b[1;32m     13\u001b[0m \u001b[38;5;28;01mfor\u001b[39;00m category \u001b[38;5;129;01min\u001b[39;00m CATEGORIES:\n\u001b[1;32m     14\u001b[0m     path \u001b[38;5;241m=\u001b[39m os\u001b[38;5;241m.\u001b[39mpath\u001b[38;5;241m.\u001b[39mjoin(DATADIR, category)\n\u001b[0;32m---> 15\u001b[0m     \u001b[38;5;28;01mfor\u001b[39;00m img \u001b[38;5;129;01min\u001b[39;00m \u001b[43mos\u001b[49m\u001b[38;5;241;43m.\u001b[39;49m\u001b[43mlistdir\u001b[49m\u001b[43m(\u001b[49m\u001b[43mpath\u001b[49m\u001b[43m)\u001b[49m:\n\u001b[1;32m     16\u001b[0m         img_array \u001b[38;5;241m=\u001b[39m cv2\u001b[38;5;241m.\u001b[39mimread(os\u001b[38;5;241m.\u001b[39mpath\u001b[38;5;241m.\u001b[39mjoin(path,img))\n\u001b[1;32m     17\u001b[0m         plt\u001b[38;5;241m.\u001b[39mimshow(img_array, cmap\u001b[38;5;241m=\u001b[39m\u001b[38;5;124m\"\u001b[39m\u001b[38;5;124mgray\u001b[39m\u001b[38;5;124m\"\u001b[39m)\n",
      "\u001b[0;31mFileNotFoundError\u001b[0m: [Errno 2] No such file or directory: '/Users/kartiksolanki/Documents/eye_cataract/dataset/train/normal'"
     ]
    }
   ],
   "source": [
    "import numpy as np\n",
    "import matplotlib.pyplot as plt\n",
    "import os\n",
    "import cv2\n",
    "from tensorflow.keras.models import Sequential\n",
    "from tensorflow.keras.layers import Conv2D, MaxPooling2D, Dense, Flatten\n",
    "import tensorflow as tf\n",
    "from tensorflow import keras\n",
    "from tensorflow.keras import layers\n",
    "from tensorflow.keras.preprocessing import image_dataset_from_directory\n",
    "DATADIR = \"/Users/kartiksolanki/Documents/eye_cataract/dataset/train\"\n",
    "CATEGORIES = [\"normal\", \"cataract\"]\n",
    "for category in CATEGORIES:\n",
    "    path = os.path.join(DATADIR, category)\n",
    "    for img in os.listdir(path):\n",
    "        img_array = cv2.imread(os.path.join(path,img))\n",
    "        plt.imshow(img_array, cmap=\"gray\")\n",
    "        plt.show()\n",
    "        break\n",
    "    break"
   ]
  },
  {
   "cell_type": "code",
   "execution_count": null,
   "id": "f9c7a2e0",
   "metadata": {},
   "outputs": [],
   "source": [
    "print(img_array.shape)"
   ]
  },
  {
   "cell_type": "code",
   "execution_count": null,
   "id": "17254c49",
   "metadata": {},
   "outputs": [],
   "source": [
    "\n",
    "def create_data(path):\n",
    "    data = []\n",
    "    for category in CATEGORIES:\n",
    "        path = os.path.join(DATADIR, category)\n",
    "        class_num = CATEGORIES.index(category)\n",
    "        for img in os.listdir(path):\n",
    "            try:\n",
    "                files = glob.glob(path+\"/\"+category+\"/*\")\n",
    "                for f in files:\n",
    "                    img_array = cv2.imread(f)\n",
    "                    new_array = cv2.resize(img_array, (IMG_SIZE, IMG_SIZE))\n",
    "                    data.append([np.array(img_array), CATEGORIES.index(category)])\n",
    "            except Exception as e:\n",
    "                pass     \n",
    "    np.random.shuffle(data)\n",
    "    return data\n"
   ]
  },
  {
   "cell_type": "code",
   "execution_count": null,
   "id": "93096ddc",
   "metadata": {},
   "outputs": [],
   "source": [
    "from tensorflow.keras.preprocessing.image import ImageDataGenerator\n",
    "\n",
    "\n",
    "train_data_dir = \"/Users/kartiksolanki/Documents/eye_cataract/dataset/train\"\n",
    "test_data_dir = \"/Users/kartiksolanki/Documents/eye_cataract/dataset/test\"\n",
    "\n",
    "\n",
    "train_datagen = ImageDataGenerator(rescale=1./255, \n",
    "                             rotation_range=20,\n",
    "                             width_shift_range=0.2,\n",
    "                             height_shift_range=0.2,\n",
    "                             shear_range=0.2,\n",
    "                             zoom_range=0.2,\n",
    "                             horizontal_flip=True,\n",
    "                             fill_mode='nearest')\n",
    "\n",
    "test_datagen = ImageDataGenerator(rescale = 1.0/255.)\n",
    "\n",
    "train_generator = train_datagen.flow_from_directory(train_data_dir,\n",
    "                                              target_size=(224, 224), \n",
    "                                              batch_size=32,\n",
    "                                              class_mode='binary')\n",
    "\n",
    "\n",
    "test_generator = test_datagen.flow_from_directory(test_data_dir,\n",
    "                                            target_size=(224, 224),  \n",
    "                                            batch_size=32,\n",
    "                                            class_mode='binary')\n",
    "         "
   ]
  },
  {
   "cell_type": "code",
   "execution_count": null,
   "id": "958c072e",
   "metadata": {},
   "outputs": [],
   "source": [
    "import matplotlib.pyplot as plt\n",
    "\n",
    "images, labels = next(test_generator)\n",
    "\n",
    "plt.figure(figsize=(10, 10))\n",
    "\n",
    "for i in range(9):\n",
    "    plt.subplot(3, 3, i + 1)\n",
    "    plt.imshow(images[i])\n",
    "    plt.title(str(labels[i]) if labels[i] == 0 else str(labels[i]))\n",
    "    plt.axis('off')\n",
    "\n",
    "plt.show()"
   ]
  },
  {
   "cell_type": "code",
   "execution_count": null,
   "id": "143ec890",
   "metadata": {},
   "outputs": [],
   "source": [
    "tensorboard_callback = tf.keras.callbacks.TensorBoard(log_dir=\"eye_cat_logs\")"
   ]
  },
  {
   "cell_type": "code",
   "execution_count": null,
   "id": "32fff488",
   "metadata": {},
   "outputs": [],
   "source": [
    "#Implementing convulational Neural Network\n",
    "model = keras.Sequential([\n",
    "    \n",
    "  \n",
    "    layers.Conv2D(32, (3, 3), input_shape=(224, 224, 3), activation='relu'),\n",
    "    layers.MaxPooling2D(2, 2),\n",
    "    \n",
    "    layers.Conv2D(64, (3, 3), activation='relu'),\n",
    "    layers.MaxPooling2D(2, 2),\n",
    "    \n",
    "    layers.Conv2D(128, (3, 3), activation='relu'),\n",
    "    layers.MaxPooling2D(2, 2),\n",
    "    \n",
    "    layers.Conv2D(256, (3, 3), activation='relu'),#added a new convulational layer\n",
    "    layers.MaxPooling2D(2, 2),\n",
    "    \n",
    "    layers.Flatten(),\n",
    "    layers.Dense(256, activation='relu'),#raised the dense layers to 256\n",
    "    \n",
    "    layers.Dropout(0.5),\n",
    "    layers.Dense(1, activation='sigmoid')\n",
    "    \n",
    "   \n",
    "])"
   ]
  },
  {
   "cell_type": "code",
   "execution_count": null,
   "id": "53dc117d",
   "metadata": {},
   "outputs": [],
   "source": [
    "model.compile(optimizer='adam', loss='binary_crossentropy', metrics=['accuracy'])\n",
    "history = model.fit(train_generator, epochs=50, validation_data=test_generator,callbacks = [tensorboard_callback])  #at epoch = 20 we are gonna get approximately 95% accuracy\n",
    "model.save('cateye-CNN.model')"
   ]
  },
  {
   "cell_type": "code",
   "execution_count": null,
   "id": "8b193d12",
   "metadata": {},
   "outputs": [],
   "source": [
    "model.summary()"
   ]
  },
  {
   "cell_type": "code",
   "execution_count": null,
   "id": "c7bc6134",
   "metadata": {},
   "outputs": [],
   "source": [
    "test_loss, test_acc = model.evaluate(test_generator)\n",
    "print(f\"Test accuracy: {test_acc}\")"
   ]
  },
  {
   "cell_type": "code",
   "execution_count": null,
   "id": "a9793875",
   "metadata": {},
   "outputs": [],
   "source": [
    "import matplotlib.pyplot as plt\n",
    "\n",
    "epochs = range(1, 51) \n",
    "plt.figure(figsize=(10, 5))\n",
    "plt.title(\"Loss vs Accuracy of Model\")\n",
    "plt.plot(epochs, history.history['loss'][:90], label='Loss')\n",
    "plt.plot(epochs, history.history['accuracy'][:90], label='Accuracy')\n",
    "plt.grid()\n",
    "plt.xlabel(\"Epochs\")\n",
    "plt.grid()\n",
    "plt.legend()\n",
    "plt.show()\n"
   ]
  },
  {
   "cell_type": "code",
   "execution_count": null,
   "id": "a2adad6c",
   "metadata": {
    "scrolled": false
   },
   "outputs": [],
   "source": [
    "for i, (test_images, true_labels) in enumerate(test_generator):\n",
    "    predictions = model.predict(test_images)\n",
    "    binary_predictions = [1 if pred > 0.5 else 0 for pred in predictions]\n",
    "    true_labels = [int(label) for label in true_labels]\n",
    "\n",
    "    for true_label, binary_prediction in zip(true_labels, binary_predictions):\n",
    "        label_string = 'Normal' if true_label == 1 else 'Cataract'\n",
    "        prediction_string = 'Normal' if binary_prediction == 1 else 'Cataract'\n",
    "        print(f\"{label_string}\")\n",
    "\n",
    "    if i == len(test_generator) - 1:\n",
    "        break  \n"
   ]
  },
  {
   "cell_type": "code",
   "execution_count": null,
   "id": "882161f0",
   "metadata": {},
   "outputs": [],
   "source": [
    "#Import the necessary libraries \n",
    "import numpy as np\n",
    "from sklearn.metrics import confusion_matrix\n",
    "import seaborn as sns\n",
    "import matplotlib.pyplot as plt \n",
    " \n",
    "#Create the NumPy array for actual and predicted labels.\n",
    "actual = np.array(\n",
    "    ['Cataract','Cataract','Cataract','Cataract','Cataract','Cataract','Cataract','Cataract','Cataract','Cataract','Cataract','Cataract','Cataract','Cataract','Cataract','Cataract','Cataract','Cataract','Cataract','Cataract','Cataract','Cataract','Cataract','Cataract','Cataract','Cataract','Cataract','Cataract','Cataract','Cataract','Cataract','Cataract','Cataract','Cataract','Cataract','Cataract','Cataract','Cataract','Cataract','Cataract','Cataract','Cataract','Cataract','Cataract','Cataract','Cataract','Cataract','Cataract','Cataract','Cataract','Cataract','Cataract','Cataract','Cataract','Cataract','Cataract','Cataract','Cataract','Cataract','Normal','Normal','Normal','Normal','Normal','Normal','Normal','Normal','Normal','Normal','Normal','Normal','Normal','Normal','Normal','Normal','Normal','Normal','Normal','Normal','Normal','Normal','Normal','Normal','Normal','Normal','Normal','Normal','Normal','Normal','Normal','Normal','Normal','Normal','Normal','Normal','Normal','Normal','Normal','Normal','Normal','Normal','Normal','Normal','Normal','Normal','Normal','Normal','Normal','Normal','Normal','Normal','Normal','Normal','Normal','Normal','Normal','Normal','Normal'])\n",
    "predicted  = np.array(\n",
    "    ['Cataract','Cataract','Cataract','Cataract','Cataract','Cataract','Cataract','Cataract','Cataract','Cataract','Cataract','Cataract','Cataract','Cataract','Cataract','Cataract','Cataract','Cataract','Cataract','Cataract','Cataract','Cataract','Cataract','Cataract', 'Cataract','Cataract','Cataract','Cataract','Cataract','Cataract','Cataract','Cataract','Cataract','Cataract','Cataract','Cataract','Cataract','Cataract','Cataract','Cataract','Cataract','Cataract','Cataract','Cataract','Cataract','Cataract','Cataract','Cataract','Cataract','Cataract','Cataract','Cataract','Cataract','Cataract','Normal','Normal','Normal','Normal','Normal','Cataract','Cataract','Normal','Normal','Normal','Normal','Normal','Normal','Normal','Normal','Normal','Normal','Normal','Normal','Normal','Normal','Normal','Normal','Normal','Normal','Normal','Normal','Normal','Normal','Normal','Normal','Normal','Normal','Normal','Normal','Normal','Normal','Normal','Normal','Normal','Normal','Normal','Normal','Normal','Normal','Normal','Normal','Normal','Normal','Normal','Normal','Normal','Normal','Normal','Normal','Normal','Normal','Normal','Normal','Normal','Normal','Normal','Normal','Normal'])\n",
    "#compute the confusion matrix.\n",
    "cm = confusion_matrix(actual,predicted)\n",
    " \n",
    "#Plot the confusion matrix.  ''\n",
    "sns.heatmap(cm, \n",
    "            annot=True,\n",
    "           fmt='d', cmap='Blues' ,\n",
    "            xticklabels=['Normal','Cataract'],\n",
    "            yticklabels=['Normal','Cataract'])\n",
    "plt.ylabel('Prediction',fontsize=13)\n",
    "plt.xlabel('Actual',fontsize=13)\n",
    "plt.title('Confusion Matrix',fontsize=17)\n",
    "plt.show()"
   ]
  },
  {
   "cell_type": "code",
   "execution_count": null,
   "id": "d5965cc6",
   "metadata": {},
   "outputs": [],
   "source": [
    "from tensorflow.keras.preprocessing import image\n",
    "test_image_path = 'normal.png' \n",
    "img = image.load_img(test_image_path, target_size=(224, 224))\n",
    "img_array = image.img_to_array(img)\n",
    "img_array = np.expand_dims(img_array, axis=0)\n",
    "img_array /= 255.0  \n",
    "\n",
    "prediction = model.predict(img_array)\n",
    "\n",
    "binary_prediction = 1 if prediction[0] > 0.5 else 0\n",
    "\n",
    "label_string = 'Normal' if binary_prediction == 1 else 'Cataract'\n",
    "print(\"Actual: Normal\")\n",
    "print(f\"Predicted: {label_string}\")\n"
   ]
  },
  {
   "cell_type": "code",
   "execution_count": null,
   "id": "42ab3b69",
   "metadata": {},
   "outputs": [],
   "source": [
    "test_image_path = 'cataract.jpeg' \n",
    "img = image.load_img(test_image_path, target_size=(224, 224))\n",
    "img_array = image.img_to_array(img)\n",
    "img_array = np.expand_dims(img_array, axis=0)\n",
    "img_array /= 255.0  \n",
    "\n",
    "prediction = model.predict(img_array)\n",
    "\n",
    "binary_prediction = 1 if prediction[0] > 0.5 else 0\n",
    "\n",
    "label_string = 'Normal' if binary_prediction == 1 else 'Cataract'\n",
    "print(\"Actual: Cataract\")\n",
    "print(f\"Predicted: {label_string}\")\n"
   ]
  },
  {
   "cell_type": "code",
   "execution_count": null,
   "id": "fbeaba20",
   "metadata": {},
   "outputs": [],
   "source": [
    "test_image_path = 'cat.jpg' \n",
    "img = image.load_img(test_image_path, target_size=(224, 224))\n",
    "img_array = image.img_to_array(img)\n",
    "img_array = np.expand_dims(img_array, axis=0)\n",
    "img_array /= 255.0  \n",
    "\n",
    "prediction = model.predict(img_array)\n",
    "\n",
    "binary_prediction = 1 if prediction[0] > 0.5 else 0\n",
    "\n",
    "label_string = 'Normal' if binary_prediction == 1 else 'Cataract'\n",
    "print(f\"Predicted: {label_string}\")"
   ]
  },
  {
   "cell_type": "code",
   "execution_count": null,
   "id": "877b438b",
   "metadata": {},
   "outputs": [],
   "source": [
    "test_image_path = 'cataract.png' \n",
    "img = image.load_img(test_image_path, target_size=(224, 224))\n",
    "img_array = image.img_to_array(img)\n",
    "img_array = np.expand_dims(img_array, axis=0)\n",
    "img_array /= 255.0  \n",
    "\n",
    "prediction = model.predict(img_array)\n",
    "\n",
    "binary_prediction = 1 if prediction[0] > 0.5 else 0\n",
    "\n",
    "label_string = 'Normal' if binary_prediction == 1 else 'Cataract'\n",
    "print(f\"Predicted: {label_string}\")"
   ]
  },
  {
   "cell_type": "code",
   "execution_count": null,
   "id": "d319f087",
   "metadata": {},
   "outputs": [],
   "source": [
    "test_image_path = 'nor6.png' \n",
    "img = image.load_img(test_image_path, target_size=(224, 224))\n",
    "img_array = image.img_to_array(img)\n",
    "img_array = np.expand_dims(img_array, axis=0)\n",
    "img_array /= 255.0  \n",
    "\n",
    "prediction = model.predict(img_array)\n",
    "\n",
    "binary_prediction = 1 if prediction[0] > 0.5 else 0\n",
    "\n",
    "label_string = 'Normal' if binary_prediction == 1 else 'Cataract'\n",
    "print(f\"Predicted: {label_string}\")"
   ]
  },
  {
   "cell_type": "code",
   "execution_count": null,
   "id": "662b4f13",
   "metadata": {},
   "outputs": [],
   "source": []
  }
 ],
 "metadata": {
  "kernelspec": {
   "display_name": "Python 3 (ipykernel)",
   "language": "python",
   "name": "python3"
  },
  "language_info": {
   "codemirror_mode": {
    "name": "ipython",
    "version": 3
   },
   "file_extension": ".py",
   "mimetype": "text/x-python",
   "name": "python",
   "nbconvert_exporter": "python",
   "pygments_lexer": "ipython3",
   "version": "3.10.9"
  }
 },
 "nbformat": 4,
 "nbformat_minor": 5
}
